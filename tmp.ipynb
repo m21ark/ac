{
 "cells": [
  {
   "cell_type": "code",
   "execution_count": 1,
   "metadata": {},
   "outputs": [
    {
     "name": "stderr",
     "output_type": "stream",
     "text": [
      "/mnt/c/Users/ricar/OneDrive/Ambiente de Trabalho/ac/funcs/statistical_analysis.py:123: SettingWithCopyWarning: \n",
      "A value is trying to be set on a copy of a slice from a DataFrame.\n",
      "Try using .loc[row_indexer,col_indexer] = value instead\n",
      "\n",
      "See the caveats in the documentation: https://pandas.pydata.org/pandas-docs/stable/user_guide/indexing.html#returning-a-view-versus-a-copy\n",
      "  df_coaches['win_percentage_coach'] = (df_coaches['won'] + df_coaches['post_wins']) / (df_coaches['won'] +\n"
     ]
    },
    {
     "name": "stdout",
     "output_type": "stream",
     "text": [
      "\n",
      "\n",
      "========================================\n",
      "Year:               10\n",
      "========================================\n",
      "WE\n",
      "Guesses:       \u001b[32mLAS\u001b[0m, \u001b[32mSEA\u001b[0m, \u001b[32mSAS\u001b[0m, \u001b[32mPHO\u001b[0m, \n",
      "Missed:        \n",
      "========================================\n",
      "EA\n",
      "Guesses:       \u001b[32mDET\u001b[0m, \u001b[32mIND\u001b[0m, \u001b[32mATL\u001b[0m, \u001b[31mCON\u001b[0m\n",
      "Missed:        WAS\n",
      "========================================\n",
      "Total accuracy:     87.50%\n",
      "\n"
     ]
    },
    {
     "name": "stderr",
     "output_type": "stream",
     "text": [
      "/mnt/c/Users/ricar/OneDrive/Ambiente de Trabalho/ac/pipeline.py:101: SettingWithCopyWarning: \n",
      "A value is trying to be set on a copy of a slice from a DataFrame.\n",
      "Try using .loc[row_indexer,col_indexer] = value instead\n",
      "\n",
      "See the caveats in the documentation: https://pandas.pydata.org/pandas-docs/stable/user_guide/indexing.html#returning-a-view-versus-a-copy\n",
      "  train['confID'] = train['confID'].replace(['EA', 'WE'], [0, 1])\n",
      "/mnt/c/Users/ricar/OneDrive/Ambiente de Trabalho/ac/pipeline.py:102: SettingWithCopyWarning: \n",
      "A value is trying to be set on a copy of a slice from a DataFrame.\n",
      "Try using .loc[row_indexer,col_indexer] = value instead\n",
      "\n",
      "See the caveats in the documentation: https://pandas.pydata.org/pandas-docs/stable/user_guide/indexing.html#returning-a-view-versus-a-copy\n",
      "  test['confID'] = test['confID'].replace(['EA', 'WE'], [0, 1])\n",
      "/mnt/c/Users/ricar/OneDrive/Ambiente de Trabalho/ac/pipeline.py:122: SettingWithCopyWarning: \n",
      "A value is trying to be set on a copy of a slice from a DataFrame.\n",
      "Try using .loc[row_indexer,col_indexer] = value instead\n",
      "\n",
      "See the caveats in the documentation: https://pandas.pydata.org/pandas-docs/stable/user_guide/indexing.html#returning-a-view-versus-a-copy\n",
      "  test['predictions'] = predictions\n",
      "/mnt/c/Users/ricar/OneDrive/Ambiente de Trabalho/ac/pipeline.py:124: FutureWarning: Setting an item of incompatible dtype is deprecated and will raise in a future error of pandas. Value '[0.81 0.19 0.93 0.99 0.94 1.   0.7  0.74 0.8  0.7  0.86 0.97 0.72]' has dtype incompatible with int64, please explicitly cast to a compatible dtype first.\n",
      "  df_teams_merged.loc[df_teams_merged['year'] == year, 'predictions'] = predictions\n"
     ]
    },
    {
     "data": {
      "text/plain": [
       "87.5"
      ]
     },
     "execution_count": 1,
     "metadata": {},
     "output_type": "execute_result"
    }
   ],
   "source": [
    "## import autosklearn.classification\n",
    "from pipeline import *\n",
    "\n",
    "# pipeline_year(10)\n",
    "\n",
    "df_coaches = pd.read_csv('dataset/cleaned/coaches.csv')\n",
    "\n",
    "\n",
    "pipeline_year(10, True)\n"
   ]
  }
 ],
 "metadata": {
  "kernelspec": {
   "display_name": "Python 3",
   "language": "python",
   "name": "python3"
  },
  "language_info": {
   "codemirror_mode": {
    "name": "ipython",
    "version": 3
   },
   "file_extension": ".py",
   "mimetype": "text/x-python",
   "name": "python",
   "nbconvert_exporter": "python",
   "pygments_lexer": "ipython3",
   "version": "3.10.6"
  }
 },
 "nbformat": 4,
 "nbformat_minor": 2
}
