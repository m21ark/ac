{
 "cells": [
  {
   "cell_type": "code",
   "execution_count": null,
   "metadata": {},
   "outputs": [],
   "source": [
    "# import autosklearn.classification\n",
    "from pipeline import *\n",
    "\n",
    "# pipeline_year(10)\n",
    "\n",
    "df_coaches = pd.read_csv('dataset/cleaned/coaches.csv')\n",
    "l = []\n",
    "for i in range(2, 11):\n",
    "    l.append(pipeline_year(i, False))\n",
    "print(l)\n"
   ]
  }
 ],
 "metadata": {
  "kernelspec": {
   "display_name": "Python 3",
   "language": "python",
   "name": "python3"
  },
  "language_info": {
   "codemirror_mode": {
    "name": "ipython",
    "version": 3
   },
   "file_extension": ".py",
   "mimetype": "text/x-python",
   "name": "python",
   "nbconvert_exporter": "python",
   "pygments_lexer": "ipython3",
   "version": "3.10.12"
  }
 },
 "nbformat": 4,
 "nbformat_minor": 2
}
