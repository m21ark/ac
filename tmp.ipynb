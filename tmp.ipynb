{
 "cells": [
  {
   "cell_type": "code",
   "execution_count": 1,
   "metadata": {},
   "outputs": [
    {
     "name": "stderr",
     "output_type": "stream",
     "text": [
      "c:\\Users\\ricar\\OneDrive\\Ambiente de Trabalho\\ac\\funcs\\statistical_analysis.py:123: SettingWithCopyWarning: \n",
      "A value is trying to be set on a copy of a slice from a DataFrame.\n",
      "Try using .loc[row_indexer,col_indexer] = value instead\n",
      "\n",
      "See the caveats in the documentation: https://pandas.pydata.org/pandas-docs/stable/user_guide/indexing.html#returning-a-view-versus-a-copy\n",
      "  df_coaches['win_percentage_coach'] = (df_coaches['won'] + df_coaches['post_wins']) / (df_coaches['won'] +\n"
     ]
    },
    {
     "name": "stdout",
     "output_type": "stream",
     "text": [
      "    tmID  year                                           playerID      mean   \n",
      "0    ATL     9  [balesal01w, castriz01w, desouer01w, haynikr01...  0.194587  \\\n",
      "1    ATL    10  [castriz01w, desouer01w, holdsch01w, lacyje01w...  0.780557   \n",
      "2    CHA     1  [bauerca01w, brazian01w, enissh01w, erbsu01w, ... -0.000280   \n",
      "3    CHA     2  [anderke01w, bristre01w, edwarto01w, enissh01w...  0.469957   \n",
      "4    CHA     3  [anderke01w, edwarto01w, enissh01w, erbsu01w, ...  0.288790   \n",
      "..   ...   ...                                                ...       ...   \n",
      "137  WAS     6  [amachma01w, beardal01w, brownki01w, choneka01...  0.448744   \n",
      "138  WAS     7  [beardal01w, blueni01w, byearla01w, jamesta01w...  0.659467   \n",
      "139  WAS     8  [beardal01w, blueni01w, currimo01w, goringi01w...  0.413176   \n",
      "140  WAS     9  [beardal01w, blueni01w, currimo01w, gardnan01w...  0.455227   \n",
      "141  WAS    10  [ajavoma01w, beardal01w, blueni01w, colemma01w...  0.705589   \n",
      "\n",
      "    confID  win_percentage_coach     coachID  awards  \n",
      "0       EA             -2.235235  meadoma99w       2  \n",
      "1       EA             -2.235235  meadoma99w       5  \n",
      "2       EA             -1.295938  dunntr01wc       2  \n",
      "3       EA              0.533667  donovan99w       3  \n",
      "4       EA              0.533667  donovan99w       3  \n",
      "..     ...                   ...         ...     ...  \n",
      "137     EA              0.190545  adubari99w       2  \n",
      "138     EA              0.190545  adubari99w       2  \n",
      "139     EA              0.000000           0       2  \n",
      "140     EA              0.000000           0       2  \n",
      "141     EA              0.000000  plankju99w       0  \n",
      "\n",
      "[142 rows x 8 columns]\n"
     ]
    },
    {
     "data": {
      "text/plain": [
       "75.0"
      ]
     },
     "execution_count": 1,
     "metadata": {},
     "output_type": "execute_result"
    }
   ],
   "source": [
    "from pipeline import *\n",
    "\n",
    "# pipeline_year(10)\n",
    "\n",
    "df_coaches = pd.read_csv('dataset/cleaned/coaches.csv')\n",
    "\n",
    "\n",
    "pipeline_year(10)\n"
   ]
  }
 ],
 "metadata": {
  "kernelspec": {
   "display_name": "Python 3",
   "language": "python",
   "name": "python3"
  },
  "language_info": {
   "codemirror_mode": {
    "name": "ipython",
    "version": 3
   },
   "file_extension": ".py",
   "mimetype": "text/x-python",
   "name": "python",
   "nbconvert_exporter": "python",
   "pygments_lexer": "ipython3",
   "version": "3.9.1"
  }
 },
 "nbformat": 4,
 "nbformat_minor": 2
}
