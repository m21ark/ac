{
 "cells": [
  {
   "cell_type": "code",
   "execution_count": 1,
   "metadata": {},
   "outputs": [
    {
     "name": "stdout",
     "output_type": "stream",
     "text": [
      "  tmID  year                                           playerID      mean   \n",
      "0  ATL     9  [balesal01w, castriz01w, desouer01w, haynikr01...  0.194587  \\\n",
      "1  ATL    10  [castriz01w, desouer01w, holdsch01w, lacyje01w...  0.780557   \n",
      "2  CHA     1  [bauerca01w, brazian01w, enissh01w, erbsu01w, ... -0.000280   \n",
      "3  CHA     2  [anderke01w, bristre01w, edwarto01w, enissh01w...  0.469957   \n",
      "4  CHA     3  [anderke01w, edwarto01w, enissh01w, erbsu01w, ...  0.288790   \n",
      "5  CHA     4  [brownru01w, brumfma01w, enissh01w, feastal01w...  0.561874   \n",
      "6  CHA     5  [andrame01w, bjorkte01w, feastal01w, frettla01...  0.321382   \n",
      "7  CHA     6  [darlihe01w, feastal01w, goodsad01w, lewisty01...  0.384588   \n",
      "8  CHA     7  [bondla01w, currimo01w, darlihe01w, feastal01w...  0.619900   \n",
      "9  CHI     7  [brownco01w, cronika01w, dalesst01w, dupreca01...  0.297826   \n",
      "\n",
      "  confID  win_percentage_coach     coachID  \n",
      "0     EA             -2.235235  meadoma99w  \n",
      "1     EA             -2.235235  meadoma99w  \n",
      "2     EA             -1.295938  dunntr01wc  \n",
      "3     EA              0.533667  donovan99w  \n",
      "4     EA              0.533667  donovan99w  \n",
      "5     EA             -0.478402  laceytr99w  \n",
      "6     EA             -0.478402  laceytr99w  \n",
      "7     EA              0.000000           0  \n",
      "8     EA             -0.857600  boguemu01w  \n",
      "9     EA             -2.026503  cowenda01w  \n"
     ]
    },
    {
     "name": "stderr",
     "output_type": "stream",
     "text": [
      "c:\\Users\\ricar\\OneDrive\\Ambiente de Trabalho\\ac\\funcs\\statistical_analysis.py:123: SettingWithCopyWarning: \n",
      "A value is trying to be set on a copy of a slice from a DataFrame.\n",
      "Try using .loc[row_indexer,col_indexer] = value instead\n",
      "\n",
      "See the caveats in the documentation: https://pandas.pydata.org/pandas-docs/stable/user_guide/indexing.html#returning-a-view-versus-a-copy\n",
      "  df_coaches['win_percentage_coach'] = (df_coaches['won'] + df_coaches['post_wins']) / (df_coaches['won'] +\n"
     ]
    },
    {
     "data": {
      "text/plain": [
       "75.0"
      ]
     },
     "execution_count": 1,
     "metadata": {},
     "output_type": "execute_result"
    }
   ],
   "source": [
    "from pipeline import *\n",
    "\n",
    "# pipeline_year(10)\n",
    "\n",
    "df_coaches = pd.read_csv('dataset/cleaned/coaches.csv')\n",
    "\n",
    "\n",
    "pipeline_year(10)\n"
   ]
  }
 ],
 "metadata": {
  "kernelspec": {
   "display_name": "Python 3",
   "language": "python",
   "name": "python3"
  },
  "language_info": {
   "codemirror_mode": {
    "name": "ipython",
    "version": 3
   },
   "file_extension": ".py",
   "mimetype": "text/x-python",
   "name": "python",
   "nbconvert_exporter": "python",
   "pygments_lexer": "ipython3",
   "version": "3.9.1"
  }
 },
 "nbformat": 4,
 "nbformat_minor": 2
}
