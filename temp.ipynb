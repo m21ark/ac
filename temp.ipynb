{
 "cells": [
  {
   "cell_type": "code",
   "execution_count": 35,
   "metadata": {},
   "outputs": [],
   "source": [
    "from pipeline import *\n",
    "import pandas as pd"
   ]
  },
  {
   "cell_type": "code",
   "execution_count": 36,
   "metadata": {},
   "outputs": [],
   "source": [
    "# year = 10\n",
    "\n",
    "# df_teams, df_teams_post, df_series_post, df_players, df_players_teams, df_coaches, df_awards_players = load_data()\n",
    "\n",
    "# df_teams_merged = global_merge(df_teams, df_teams_post, df_series_post,\n",
    "#                                    df_players, df_players_teams, df_coaches, df_awards_players, year)\n",
    "\n",
    "# df_teams_merged.head(20)\n",
    "\n",
    "# \n",
    "\n",
    "# open coaches file and merge with another coach file\n",
    "\n",
    "# df_coaches = pd.read_csv('dataset/cleaned/coaches.csv')\n",
    "# df_new_season = pd.read_csv('dataset/season_eleven/coaches.csv')\n",
    "\n",
    "# df_new_season = df_new_season.drop(columns=['lgID'],axis=1)\n",
    "\n",
    "# # add new season to df_coaches\n",
    "# df_coaches = pd.concat([df_coaches, df_new_season], ignore_index=True)\n",
    "\n",
    "# ## save to dataset/cleaned/coaches.csv\n",
    "# df_coaches.to_csv('dataset/cleaned/coaches.csv', index=False)\n",
    "\n",
    "\n",
    "# df_player_teams = pd.read_csv('dataset/cleaned/players_teams.csv')\n",
    "# df_new_season = pd.read_csv('dataset/season_eleven/players_teams.csv')\n",
    "\n",
    "\n",
    "# df_new_season = df_new_season.drop(columns=['lgID'],axis=1)\n",
    "\n",
    "# df_player_teams = pd.concat([df_player_teams, df_new_season], ignore_index=True)\n",
    "\n",
    "# df_player_teams.to_csv('dataset/cleaned/players_teams.csv', index=False)\n",
    "\n",
    "# df_teams = pd.read_csv('dataset/cleaned/teams.csv')\n",
    "# df_new_season = pd.read_csv('dataset/season_eleven/teams.csv')\n",
    "\n",
    "\n",
    "# df_new_season = df_new_season.drop(columns=['name', 'arena', 'franchID', 'lgID'],axis=1)\n",
    "\n",
    "# df_teams = pd.concat([df_teams, df_new_season], ignore_index=True)\n",
    "\n",
    "# df_teams.to_csv('dataset/cleaned/teams.csv', index=False)\n",
    "\n",
    "\n"
   ]
  }
 ],
 "metadata": {
  "kernelspec": {
   "display_name": "Python 3",
   "language": "python",
   "name": "python3"
  },
  "language_info": {
   "codemirror_mode": {
    "name": "ipython",
    "version": 3
   },
   "file_extension": ".py",
   "mimetype": "text/x-python",
   "name": "python",
   "nbconvert_exporter": "python",
   "pygments_lexer": "ipython3",
   "version": "3.10.12"
  }
 },
 "nbformat": 4,
 "nbformat_minor": 2
}
