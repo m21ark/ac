{
 "cells": [
  {
   "cell_type": "markdown",
   "metadata": {},
   "source": [
    "# Cleaning Process"
   ]
  },
  {
   "cell_type": "markdown",
   "metadata": {},
   "source": [
    "## Imports"
   ]
  },
  {
   "cell_type": "code",
   "execution_count": 38,
   "metadata": {},
   "outputs": [],
   "source": [
    "\n",
    "import pandas as pd\n",
    "import numpy as np\n",
    "from sklearn.ensemble import GradientBoostingRegressor\n",
    "from sklearn.metrics import mean_squared_error\n",
    "from sklearn.preprocessing import StandardScaler\n",
    "from colorama import Fore, Style\n"
   ]
  },
  {
   "cell_type": "markdown",
   "metadata": {},
   "source": [
    "## Utility functions"
   ]
  },
  {
   "cell_type": "code",
   "execution_count": 39,
   "metadata": {},
   "outputs": [],
   "source": [
    "\n",
    "def remove_redundant_cols(df):\n",
    "    return df.loc[:, df.nunique() > 1]\n",
    "\n",
    "\n",
    "def replace_col_with_ids(df, col_name):\n",
    "    unique_awards = df[col_name].unique()\n",
    "    award_mapping = {award: i for i,\n",
    "                     award in enumerate(unique_awards, start=1)}\n",
    "\n",
    "    # df[col_name] = df[col_name].replace(award_mapping)\n",
    "    df.loc[:, col_name] = df.loc[:, col_name].replace(award_mapping)\n",
    "    return df\n",
    "\n",
    "\n",
    "def basic_clean(df, cols=[]):\n",
    "    df = df.loc[:, df.nunique() > 1]\n",
    "    df = df.drop(columns=cols, axis=1)\n",
    "    df = remove_redundant_cols(df)\n",
    "    return df\n"
   ]
  },
  {
   "cell_type": "markdown",
   "metadata": {},
   "source": [
    "## Cleaning Functions"
   ]
  },
  {
   "cell_type": "code",
   "execution_count": 40,
   "metadata": {},
   "outputs": [],
   "source": [
    "def clean_players(df):\n",
    "    df = basic_clean(df, ['college', 'collegeOther', 'birthDate', 'deathDate'])\n",
    "    return df\n"
   ]
  },
  {
   "cell_type": "code",
   "execution_count": 41,
   "metadata": {},
   "outputs": [],
   "source": [
    "def clean_awards_players(df):\n",
    "    df = basic_clean(df)\n",
    "    return df\n"
   ]
  },
  {
   "cell_type": "code",
   "execution_count": 42,
   "metadata": {},
   "outputs": [],
   "source": [
    "\n",
    "def clean_coaches(df):\n",
    "    df = basic_clean(df)\n",
    "    return df\n"
   ]
  },
  {
   "cell_type": "code",
   "execution_count": 43,
   "metadata": {},
   "outputs": [],
   "source": [
    "\n",
    "\n",
    "def clean_teams_players(df):\n",
    "    df = basic_clean(df)\n",
    "\n",
    "    df['TotalGP'] = df.apply(lambda x: x['GP'] + x['PostGP'], axis=1)\n",
    "    df['Points'] = df.apply(lambda x: x['PostPoints'] + x['points'], axis=1)\n",
    "    df['TotalMinutes'] = df.apply(\n",
    "        lambda x: x['minutes'] + x['PostMinutes'], axis=1)\n",
    "    df['TotaloRebounds'] = df.apply(\n",
    "        lambda x: x['oRebounds'] + x['PostoRebounds'], axis=1)\n",
    "    df['TotaldRebounds'] = df.apply(\n",
    "        lambda x: x['dRebounds'] + x['PostdRebounds'], axis=1)\n",
    "    df['TotalRebounds'] = df.apply(\n",
    "        lambda x: x['rebounds'] + x['PostRebounds'], axis=1)\n",
    "    df['TotalAssists'] = df.apply(\n",
    "        lambda x: x['assists'] + x['PostAssists'], axis=1)\n",
    "    df['TotalSteals'] = df.apply(\n",
    "        lambda x: x['steals'] + x['PostSteals'], axis=1)\n",
    "    df['TotalBlocks'] = df.apply(\n",
    "        lambda x: x['blocks'] + x['PostBlocks'], axis=1)\n",
    "    df['TotalTurnovers'] = df.apply(\n",
    "        lambda x: x['turnovers'] + x['PostTurnovers'], axis=1)\n",
    "    df['TotalPF'] = df.apply(lambda x: x['PF'] + x['PostPF'], axis=1)\n",
    "    df['TotalfgAttempted'] = df.apply(\n",
    "        lambda x: x['fgAttempted'] + x['PostfgAttempted'], axis=1)\n",
    "    df['TotalfgMade'] = df.apply(\n",
    "        lambda x: x['fgMade'] + x['PostfgMade'], axis=1)\n",
    "    df['TotalftAttempted'] = df.apply(\n",
    "        lambda x: x['ftAttempted'] + x['PostftAttempted'], axis=1)\n",
    "    df['TotalftMade'] = df.apply(\n",
    "        lambda x: x['ftMade'] + x['PostftMade'], axis=1)\n",
    "    df['TotalthreeAttempted'] = df.apply(\n",
    "        lambda x: x['threeAttempted'] + x['PostthreeAttempted'], axis=1)\n",
    "    df['TotalthreeMade'] = df.apply(\n",
    "        lambda x: x['threeMade'] + x['PostthreeMade'], axis=1)\n",
    "    df['TotalGS'] = df.apply(lambda x: x['GS'] + x['PostGS'], axis=1)\n",
    "    df['TotalDQ'] = df.apply(lambda x: x['dq'] + x['PostDQ'], axis=1)\n",
    "\n",
    "    df = df.drop(['GP', 'PostGP', 'points', 'PostPoints', 'minutes', 'PostMinutes', 'oRebounds', 'PostoRebounds', 'dRebounds', 'PostdRebounds', 'rebounds', 'PostRebounds', 'assists', 'PostAssists', 'steals', 'PostSteals', 'blocks', 'PostBlocks',\n",
    "                  'turnovers', 'PostTurnovers', 'PF', 'PostPF', 'fgAttempted', 'PostfgAttempted', 'fgMade', 'PostfgMade', 'ftAttempted', 'PostftAttempted', 'ftMade', 'PostftMade', 'threeAttempted', 'PostthreeAttempted', 'threeMade', 'PostthreeMade', 'GS', 'PostGS', 'dq', 'PostDQ'], axis=1)\n",
    "\n",
    "    return df\n"
   ]
  },
  {
   "cell_type": "code",
   "execution_count": 44,
   "metadata": {},
   "outputs": [],
   "source": [
    "# TODO: Clean series_post\n",
    "\n",
    "def clean_series_post(df):\n",
    "    df = basic_clean(df)\n",
    "    return df"
   ]
  },
  {
   "cell_type": "code",
   "execution_count": 45,
   "metadata": {},
   "outputs": [],
   "source": [
    "# TODO: Clean teams_post\n",
    "\n",
    "def clean_teams_post(df):\n",
    "    df = basic_clean(df)\n",
    "    return df"
   ]
  },
  {
   "cell_type": "code",
   "execution_count": 46,
   "metadata": {},
   "outputs": [],
   "source": [
    "# TODO: Clean teams\n",
    "\n",
    "def clean_teams(df):\n",
    "    df = basic_clean(df)\n",
    "    return df"
   ]
  },
  {
   "cell_type": "markdown",
   "metadata": {},
   "source": [
    "## Cleaning Data Frames and Saving to CSV"
   ]
  },
  {
   "cell_type": "code",
   "execution_count": 47,
   "metadata": {},
   "outputs": [],
   "source": [
    "# Loading DataFrames\n",
    "\n",
    "df_teams = pd.read_csv(\"dataset/original/teams.csv\")\n",
    "df_teams_post = pd.read_csv(\"dataset/original/teams_post.csv\")\n",
    "df_series_post = pd.read_csv(\"dataset/original/series_post.csv\")\n",
    "df_players = pd.read_csv(\"dataset/original/players.csv\")\n",
    "df_players_teams = pd.read_csv(\"dataset/original/players_teams.csv\")\n",
    "df_coaches = pd.read_csv(\"dataset/original/coaches.csv\")\n",
    "df_awards_players = pd.read_csv(\"dataset/original/awards_players.csv\")\n"
   ]
  },
  {
   "cell_type": "code",
   "execution_count": 48,
   "metadata": {},
   "outputs": [],
   "source": [
    "# Cleaning DataFrames\n",
    "\n",
    "df_players = clean_players(df_players)\n",
    "df_awards_players = clean_awards_players(df_awards_players)\n",
    "df_coaches = clean_coaches(df_coaches)\n",
    "df_players_teams = clean_teams_players(df_players_teams)\n",
    "df_series_post = clean_series_post(df_series_post)\n",
    "df_teams_post = clean_teams_post(df_teams_post)\n",
    "df_teams = clean_teams(df_teams)"
   ]
  },
  {
   "cell_type": "code",
   "execution_count": 49,
   "metadata": {},
   "outputs": [],
   "source": [
    "# Saving DataFrames to CSV\n",
    "\n",
    "df_players.to_csv(\"dataset/cleaned/players.csv\", index=False)\n",
    "df_awards_players.to_csv(\"dataset/cleaned/awards_players.csv\", index=False)\n",
    "df_coaches.to_csv(\"dataset/cleaned/coaches.csv\", index=False)\n",
    "df_players_teams.to_csv(\"dataset/cleaned/players_teams.csv\", index=False)\n",
    "df_series_post.to_csv(\"dataset/cleaned/series_post.csv\", index=False)\n",
    "df_teams_post.to_csv(\"dataset/cleaned/teams_post.csv\", index=False)\n",
    "df_teams.to_csv(\"dataset/cleaned/teams.csv\", index=False)"
   ]
  }
 ],
 "metadata": {
  "kernelspec": {
   "display_name": "Python 3",
   "language": "python",
   "name": "python3"
  },
  "language_info": {
   "codemirror_mode": {
    "name": "ipython",
    "version": 3
   },
   "file_extension": ".py",
   "mimetype": "text/x-python",
   "name": "python",
   "nbconvert_exporter": "python",
   "pygments_lexer": "ipython3",
   "version": "3.10.12"
  }
 },
 "nbformat": 4,
 "nbformat_minor": 2
}
