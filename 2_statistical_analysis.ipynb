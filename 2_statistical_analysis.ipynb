{
 "cells": [
  {
   "cell_type": "markdown",
   "metadata": {},
   "source": [
    "# Statistical Analysis"
   ]
  },
  {
   "cell_type": "markdown",
   "metadata": {},
   "source": [
    "## Imports"
   ]
  },
  {
   "cell_type": "code",
   "execution_count": 57,
   "metadata": {},
   "outputs": [],
   "source": [
    "import pandas as pd\n",
    "import numpy as np\n",
    "import seaborn as sns\n",
    "import matplotlib.pyplot as plt\n",
    "from pipeline import *\n"
   ]
  },
  {
   "cell_type": "markdown",
   "metadata": {},
   "source": [
    "## Load Data"
   ]
  },
  {
   "cell_type": "code",
   "execution_count": 58,
   "metadata": {},
   "outputs": [],
   "source": [
    "# Load the datasets\n",
    "df_teams = pd.read_csv(\"dataset/cleaned/teams.csv\")\n",
    "df_teams_post = pd.read_csv(\"dataset/cleaned/teams_post.csv\")\n",
    "df_series_post = pd.read_csv(\"dataset/cleaned/series_post.csv\")\n",
    "df_players = pd.read_csv(\"dataset/cleaned/players.csv\")\n",
    "df_players_teams = pd.read_csv(\"dataset/cleaned/players_teams.csv\")\n",
    "df_coaches = pd.read_csv(\"dataset/cleaned/coaches.csv\")\n",
    "df_awards_players = pd.read_csv(\"dataset/cleaned/awards_players.csv\")\n",
    "\n",
    "dfs = [df_teams, df_teams_post, df_series_post, df_players, df_players_teams, df_coaches, df_awards_players]\n",
    "dfs_names = [\"teams\", \"teams_post\", \"series_post\", \"players\", \"players_teams\", \"coaches\", \"awards_players\"]"
   ]
  },
  {
   "cell_type": "code",
   "execution_count": 59,
   "metadata": {},
   "outputs": [],
   "source": [
    "df_players_merged = merge_player_info(df_players, df_players_teams) "
   ]
  },
  {
   "cell_type": "markdown",
   "metadata": {},
   "source": [
    "## Auxiliary Functions"
   ]
  },
  {
   "cell_type": "code",
   "execution_count": 60,
   "metadata": {},
   "outputs": [],
   "source": [
    "def show_corr_matrix(df, threshold=0.8):\n",
    "    correlation_matrix = df.corr()\n",
    "\n",
    "    plt.figure(figsize=(12, 8))\n",
    "    sns.heatmap(correlation_matrix, annot=True, cmap='coolwarm', fmt=\".2f\")\n",
    "    plt.title(\"Correlation Matrix\")\n",
    "    plt.show()\n",
    "\n",
    "    num_corr_greater_than_08 = ((correlation_matrix.where(np.tril(\n",
    "        np.ones(correlation_matrix.shape), k=-1).astype(bool)) > threshold).sum()).sum()\n",
    "    print(\"Number of correlation values greater than 0.8:\",\n",
    "          num_corr_greater_than_08)\n"
   ]
  },
  {
   "cell_type": "code",
   "execution_count": 61,
   "metadata": {},
   "outputs": [],
   "source": [
    "def show_box_plots(df):\n",
    "    num_cols = int(len(df.columns)/3)+1\n",
    "    num_rows = 3\n",
    "    fig, axs = plt.subplots(nrows=num_rows, ncols=num_cols, figsize=(20, 10))\n",
    "    axs = axs.flatten()\n",
    "\n",
    "    for i, col in enumerate(df.columns):\n",
    "\n",
    "        q1 = df[col].quantile(0.25)\n",
    "        q3 = df[col].quantile(0.75)\n",
    "        iqr = q3 - q1\n",
    "        lower_bound = q1 - 1.5 * iqr\n",
    "        upper_bound = q3 + 1.5 * iqr\n",
    "        num_outliers = len(\n",
    "            df[(df[col] < lower_bound) | (df[col] > upper_bound)])\n",
    "\n",
    "        axs[i].boxplot(df[col])\n",
    "        axs[i].set_ylim(df[col].min() - 0.1 * df[col].max(),\n",
    "                        df[col].max() + 0.1 * df[col].max())\n",
    "\n",
    "        axs[i].set_xlabel(f\"mean: {df[col].mean():.2f}\")\n",
    "\n",
    "        if num_outliers > 40:\n",
    "            axs[i].set_title(f\"{col} ({num_outliers} outliers)\", color='red')\n",
    "        else:\n",
    "            axs[i].set_title(f\"{col} ({num_outliers} outliers)\")\n",
    "\n",
    "    fig.suptitle(\"Box Plots for Attributes\")\n",
    "    plt.tight_layout()\n",
    "    plt.show()\n"
   ]
  },
  {
   "cell_type": "markdown",
   "metadata": {},
   "source": [
    "## Statistical Analysis of the Data"
   ]
  },
  {
   "cell_type": "code",
   "execution_count": 62,
   "metadata": {},
   "outputs": [
    {
     "data": {
      "text/plain": [
       "' \\nfor df, name in zip(dfs, dfs_names):\\n\\n    try:\\n        # remove columns that have non-numeric values\\n        df = df.select_dtypes(include=np.number)\\n\\n        show_corr_matrix(df)\\n        show_box_plots(df)\\n    except:\\n        print(f\"Error in {name}\")\\n        continue\\n\\n# TODO: Add more statistical analysis ! \\n'"
      ]
     },
     "execution_count": 62,
     "metadata": {},
     "output_type": "execute_result"
    }
   ],
   "source": [
    "\"\"\" \n",
    "for df, name in zip(dfs, dfs_names):\n",
    "\n",
    "    try:\n",
    "        # remove columns that have non-numeric values\n",
    "        df = df.select_dtypes(include=np.number)\n",
    "\n",
    "        show_corr_matrix(df)\n",
    "        show_box_plots(df)\n",
    "    except:\n",
    "        print(f\"Error in {name}\")\n",
    "        continue\n",
    "\n",
    "# TODO: Add more statistical analysis ! \n",
    "\"\"\"\n"
   ]
  },
  {
   "cell_type": "markdown",
   "metadata": {},
   "source": [
    "### Statistical Players Analysis"
   ]
  },
  {
   "cell_type": "code",
   "execution_count": 63,
   "metadata": {},
   "outputs": [
    {
     "data": {
      "text/html": [
       "<div>\n",
       "<style scoped>\n",
       "    .dataframe tbody tr th:only-of-type {\n",
       "        vertical-align: middle;\n",
       "    }\n",
       "\n",
       "    .dataframe tbody tr th {\n",
       "        vertical-align: top;\n",
       "    }\n",
       "\n",
       "    .dataframe thead th {\n",
       "        text-align: right;\n",
       "    }\n",
       "</style>\n",
       "<table border=\"1\" class=\"dataframe\">\n",
       "  <thead>\n",
       "    <tr style=\"text-align: right;\">\n",
       "      <th></th>\n",
       "      <th>playerID</th>\n",
       "      <th>medium</th>\n",
       "      <th>predictions</th>\n",
       "    </tr>\n",
       "  </thead>\n",
       "  <tbody>\n",
       "    <tr>\n",
       "      <th>464</th>\n",
       "      <td>tauradi01w</td>\n",
       "      <td>3.357231</td>\n",
       "      <td>3.336905</td>\n",
       "    </tr>\n",
       "    <tr>\n",
       "      <th>275</th>\n",
       "      <td>leslili01w</td>\n",
       "      <td>3.303227</td>\n",
       "      <td>3.294452</td>\n",
       "    </tr>\n",
       "    <tr>\n",
       "      <th>86</th>\n",
       "      <td>catchta01w</td>\n",
       "      <td>3.170157</td>\n",
       "      <td>3.164172</td>\n",
       "    </tr>\n",
       "    <tr>\n",
       "      <th>368</th>\n",
       "      <td>parkeca01w</td>\n",
       "      <td>2.888040</td>\n",
       "      <td>2.885868</td>\n",
       "    </tr>\n",
       "    <tr>\n",
       "      <th>228</th>\n",
       "      <td>jacksla01w</td>\n",
       "      <td>2.698630</td>\n",
       "      <td>2.707898</td>\n",
       "    </tr>\n",
       "    <tr>\n",
       "      <th>379</th>\n",
       "      <td>pondeca01w</td>\n",
       "      <td>2.622344</td>\n",
       "      <td>2.642727</td>\n",
       "    </tr>\n",
       "    <tr>\n",
       "      <th>548</th>\n",
       "      <td>youngso01w</td>\n",
       "      <td>2.315050</td>\n",
       "      <td>2.360242</td>\n",
       "    </tr>\n",
       "    <tr>\n",
       "      <th>35</th>\n",
       "      <td>beardal01w</td>\n",
       "      <td>2.199414</td>\n",
       "      <td>2.206995</td>\n",
       "    </tr>\n",
       "    <tr>\n",
       "      <th>434</th>\n",
       "      <td>smithka01w</td>\n",
       "      <td>2.208483</td>\n",
       "      <td>2.196639</td>\n",
       "    </tr>\n",
       "    <tr>\n",
       "      <th>475</th>\n",
       "      <td>thompti01w</td>\n",
       "      <td>2.129342</td>\n",
       "      <td>2.120975</td>\n",
       "    </tr>\n",
       "  </tbody>\n",
       "</table>\n",
       "</div>"
      ],
      "text/plain": [
       "       playerID    medium  predictions\n",
       "464  tauradi01w  3.357231     3.336905\n",
       "275  leslili01w  3.303227     3.294452\n",
       "86   catchta01w  3.170157     3.164172\n",
       "368  parkeca01w  2.888040     2.885868\n",
       "228  jacksla01w  2.698630     2.707898\n",
       "379  pondeca01w  2.622344     2.642727\n",
       "548  youngso01w  2.315050     2.360242\n",
       "35   beardal01w  2.199414     2.206995\n",
       "434  smithka01w  2.208483     2.196639\n",
       "475  thompti01w  2.129342     2.120975"
      ]
     },
     "execution_count": 63,
     "metadata": {},
     "output_type": "execute_result"
    }
   ],
   "source": [
    "# TODO: to remove year 10 add parameter 9\n",
    "df_pred = player_rankings(df_players_merged)\n",
    "\n",
    "# sort by player rankings\n",
    "df_pred = df_pred.sort_values(by=['predictions'], ascending=False)\n",
    "\n",
    "df_pred.head(10)\n"
   ]
  },
  {
   "cell_type": "code",
   "execution_count": 64,
   "metadata": {},
   "outputs": [],
   "source": [
    "# PREDICTION IS NOT WORKING properly for now, so we use medium ranking\n",
    "# df_player_evol = player_ranking_evolution(df_players_merged, 'leslili01w')\n",
    "\n",
    "# plot of the evolution\n",
    "# df_player_evol.plot(x='year', y='medium', kind='line')\n",
    "# df_player_evol.head()\n"
   ]
  },
  {
   "cell_type": "code",
   "execution_count": 65,
   "metadata": {},
   "outputs": [
    {
     "ename": "KeyError",
     "evalue": "\"Column(s) ['award'] do not exist\"",
     "output_type": "error",
     "traceback": [
      "\u001b[0;31m---------------------------------------------------------------------------\u001b[0m",
      "\u001b[0;31mKeyError\u001b[0m                                  Traceback (most recent call last)",
      "\u001b[1;32m/home/m/Desktop/1S/AC/projeto/2_statistical_analysis.ipynb Cell 15\u001b[0m line \u001b[0;36m1\n\u001b[0;32m----> <a href='vscode-notebook-cell:/home/m/Desktop/1S/AC/projeto/2_statistical_analysis.ipynb#X21sZmlsZQ%3D%3D?line=0'>1</a>\u001b[0m df_player_evol \u001b[39m=\u001b[39m player_ranking_evolution(df_players_merged, \u001b[39m'\u001b[39;49m\u001b[39mtauradi01w\u001b[39;49m\u001b[39m'\u001b[39;49m)\n\u001b[1;32m      <a href='vscode-notebook-cell:/home/m/Desktop/1S/AC/projeto/2_statistical_analysis.ipynb#X21sZmlsZQ%3D%3D?line=2'>3</a>\u001b[0m \u001b[39m# plot of the evolution\u001b[39;00m\n\u001b[1;32m      <a href='vscode-notebook-cell:/home/m/Desktop/1S/AC/projeto/2_statistical_analysis.ipynb#X21sZmlsZQ%3D%3D?line=3'>4</a>\u001b[0m df_player_evol\u001b[39m.\u001b[39mplot(x\u001b[39m=\u001b[39m\u001b[39m'\u001b[39m\u001b[39myear\u001b[39m\u001b[39m'\u001b[39m, y\u001b[39m=\u001b[39m\u001b[39m'\u001b[39m\u001b[39mmedium\u001b[39m\u001b[39m'\u001b[39m, kind\u001b[39m=\u001b[39m\u001b[39m'\u001b[39m\u001b[39mline\u001b[39m\u001b[39m'\u001b[39m)\n",
      "File \u001b[0;32m~/Desktop/1S/AC/projeto/pipeline.py:224\u001b[0m, in \u001b[0;36mplayer_ranking_evolution\u001b[0;34m(df_merged, playerID)\u001b[0m\n\u001b[1;32m    221\u001b[0m \u001b[39mdef\u001b[39;00m \u001b[39mplayer_ranking_evolution\u001b[39m(df_merged, playerID):\n\u001b[1;32m    222\u001b[0m     df_merged \u001b[39m=\u001b[39m df_merged[df_merged[\u001b[39m'\u001b[39m\u001b[39mplayerID\u001b[39m\u001b[39m'\u001b[39m] \u001b[39m==\u001b[39m playerID]\n\u001b[0;32m--> 224\u001b[0m     df_merged \u001b[39m=\u001b[39m df_merged\u001b[39m.\u001b[39;49mgroupby([\u001b[39m'\u001b[39;49m\u001b[39mplayerID\u001b[39;49m\u001b[39m'\u001b[39;49m, \u001b[39m'\u001b[39;49m\u001b[39myear\u001b[39;49m\u001b[39m'\u001b[39;49m])\u001b[39m.\u001b[39;49magg({\n\u001b[1;32m    225\u001b[0m         \u001b[39m'\u001b[39;49m\u001b[39mPoints\u001b[39;49m\u001b[39m'\u001b[39;49m: \u001b[39m'\u001b[39;49m\u001b[39msum\u001b[39;49m\u001b[39m'\u001b[39;49m,\n\u001b[1;32m    226\u001b[0m         \u001b[39m'\u001b[39;49m\u001b[39mTotalMinutes\u001b[39;49m\u001b[39m'\u001b[39;49m: \u001b[39m'\u001b[39;49m\u001b[39msum\u001b[39;49m\u001b[39m'\u001b[39;49m,\n\u001b[1;32m    227\u001b[0m         \u001b[39m'\u001b[39;49m\u001b[39mTotaloRebounds\u001b[39;49m\u001b[39m'\u001b[39;49m: \u001b[39m'\u001b[39;49m\u001b[39msum\u001b[39;49m\u001b[39m'\u001b[39;49m,\n\u001b[1;32m    228\u001b[0m         \u001b[39m'\u001b[39;49m\u001b[39mTotaldRebounds\u001b[39;49m\u001b[39m'\u001b[39;49m: \u001b[39m'\u001b[39;49m\u001b[39msum\u001b[39;49m\u001b[39m'\u001b[39;49m,\n\u001b[1;32m    229\u001b[0m         \u001b[39m'\u001b[39;49m\u001b[39mTotalRebounds\u001b[39;49m\u001b[39m'\u001b[39;49m: \u001b[39m'\u001b[39;49m\u001b[39msum\u001b[39;49m\u001b[39m'\u001b[39;49m,\n\u001b[1;32m    230\u001b[0m         \u001b[39m'\u001b[39;49m\u001b[39mTotalAssists\u001b[39;49m\u001b[39m'\u001b[39;49m: \u001b[39m'\u001b[39;49m\u001b[39msum\u001b[39;49m\u001b[39m'\u001b[39;49m,\n\u001b[1;32m    231\u001b[0m         \u001b[39m'\u001b[39;49m\u001b[39mTotalSteals\u001b[39;49m\u001b[39m'\u001b[39;49m: \u001b[39m'\u001b[39;49m\u001b[39msum\u001b[39;49m\u001b[39m'\u001b[39;49m,\n\u001b[1;32m    232\u001b[0m         \u001b[39m'\u001b[39;49m\u001b[39mTotalBlocks\u001b[39;49m\u001b[39m'\u001b[39;49m: \u001b[39m'\u001b[39;49m\u001b[39msum\u001b[39;49m\u001b[39m'\u001b[39;49m,\n\u001b[1;32m    233\u001b[0m         \u001b[39m'\u001b[39;49m\u001b[39mTotalTurnovers\u001b[39;49m\u001b[39m'\u001b[39;49m: \u001b[39m'\u001b[39;49m\u001b[39msum\u001b[39;49m\u001b[39m'\u001b[39;49m,\n\u001b[1;32m    234\u001b[0m         \u001b[39m'\u001b[39;49m\u001b[39mTotalPF\u001b[39;49m\u001b[39m'\u001b[39;49m: \u001b[39m'\u001b[39;49m\u001b[39msum\u001b[39;49m\u001b[39m'\u001b[39;49m,\n\u001b[1;32m    235\u001b[0m         \u001b[39m'\u001b[39;49m\u001b[39mTotalfgAttempted\u001b[39;49m\u001b[39m'\u001b[39;49m: \u001b[39m'\u001b[39;49m\u001b[39msum\u001b[39;49m\u001b[39m'\u001b[39;49m,\n\u001b[1;32m    236\u001b[0m         \u001b[39m'\u001b[39;49m\u001b[39mTotalfgMade\u001b[39;49m\u001b[39m'\u001b[39;49m: \u001b[39m'\u001b[39;49m\u001b[39msum\u001b[39;49m\u001b[39m'\u001b[39;49m,\n\u001b[1;32m    237\u001b[0m         \u001b[39m'\u001b[39;49m\u001b[39mTotalftAttempted\u001b[39;49m\u001b[39m'\u001b[39;49m: \u001b[39m'\u001b[39;49m\u001b[39msum\u001b[39;49m\u001b[39m'\u001b[39;49m,\n\u001b[1;32m    238\u001b[0m         \u001b[39m'\u001b[39;49m\u001b[39mTotalftMade\u001b[39;49m\u001b[39m'\u001b[39;49m: \u001b[39m'\u001b[39;49m\u001b[39msum\u001b[39;49m\u001b[39m'\u001b[39;49m,\n\u001b[1;32m    239\u001b[0m         \u001b[39m'\u001b[39;49m\u001b[39mTotalthreeAttempted\u001b[39;49m\u001b[39m'\u001b[39;49m: \u001b[39m'\u001b[39;49m\u001b[39msum\u001b[39;49m\u001b[39m'\u001b[39;49m,\n\u001b[1;32m    240\u001b[0m         \u001b[39m'\u001b[39;49m\u001b[39mTotalthreeMade\u001b[39;49m\u001b[39m'\u001b[39;49m: \u001b[39m'\u001b[39;49m\u001b[39msum\u001b[39;49m\u001b[39m'\u001b[39;49m,\n\u001b[1;32m    241\u001b[0m         \u001b[39m'\u001b[39;49m\u001b[39mTotalGP\u001b[39;49m\u001b[39m'\u001b[39;49m: \u001b[39m'\u001b[39;49m\u001b[39msum\u001b[39;49m\u001b[39m'\u001b[39;49m,\n\u001b[1;32m    242\u001b[0m         \u001b[39m'\u001b[39;49m\u001b[39maward\u001b[39;49m\u001b[39m'\u001b[39;49m: \u001b[39m'\u001b[39;49m\u001b[39msum\u001b[39;49m\u001b[39m'\u001b[39;49m,\n\u001b[1;32m    243\u001b[0m     })\n\u001b[1;32m    245\u001b[0m     df_merged \u001b[39m=\u001b[39m df_merged\u001b[39m.\u001b[39mreset_index()\n\u001b[1;32m    247\u001b[0m     df_merged \u001b[39m=\u001b[39m df_merged\u001b[39m.\u001b[39mdrop([\u001b[39m'\u001b[39m\u001b[39mTotalMinutes\u001b[39m\u001b[39m'\u001b[39m, \u001b[39m'\u001b[39m\u001b[39mTotalGP\u001b[39m\u001b[39m'\u001b[39m], axis\u001b[39m=\u001b[39m\u001b[39m1\u001b[39m)\n",
      "File \u001b[0;32m~/.local/lib/python3.10/site-packages/pandas/core/groupby/generic.py:1269\u001b[0m, in \u001b[0;36mDataFrameGroupBy.aggregate\u001b[0;34m(self, func, engine, engine_kwargs, *args, **kwargs)\u001b[0m\n\u001b[1;32m   1266\u001b[0m func \u001b[39m=\u001b[39m maybe_mangle_lambdas(func)\n\u001b[1;32m   1268\u001b[0m op \u001b[39m=\u001b[39m GroupByApply(\u001b[39mself\u001b[39m, func, args, kwargs)\n\u001b[0;32m-> 1269\u001b[0m result \u001b[39m=\u001b[39m op\u001b[39m.\u001b[39;49magg()\n\u001b[1;32m   1270\u001b[0m \u001b[39mif\u001b[39;00m \u001b[39mnot\u001b[39;00m is_dict_like(func) \u001b[39mand\u001b[39;00m result \u001b[39mis\u001b[39;00m \u001b[39mnot\u001b[39;00m \u001b[39mNone\u001b[39;00m:\n\u001b[1;32m   1271\u001b[0m     \u001b[39mreturn\u001b[39;00m result\n",
      "File \u001b[0;32m~/.local/lib/python3.10/site-packages/pandas/core/apply.py:163\u001b[0m, in \u001b[0;36mApply.agg\u001b[0;34m(self)\u001b[0m\n\u001b[1;32m    160\u001b[0m     \u001b[39mreturn\u001b[39;00m \u001b[39mself\u001b[39m\u001b[39m.\u001b[39mapply_str()\n\u001b[1;32m    162\u001b[0m \u001b[39mif\u001b[39;00m is_dict_like(arg):\n\u001b[0;32m--> 163\u001b[0m     \u001b[39mreturn\u001b[39;00m \u001b[39mself\u001b[39;49m\u001b[39m.\u001b[39;49magg_dict_like()\n\u001b[1;32m    164\u001b[0m \u001b[39melif\u001b[39;00m is_list_like(arg):\n\u001b[1;32m    165\u001b[0m     \u001b[39m# we require a list, but not a 'str'\u001b[39;00m\n\u001b[1;32m    166\u001b[0m     \u001b[39mreturn\u001b[39;00m \u001b[39mself\u001b[39m\u001b[39m.\u001b[39magg_list_like()\n",
      "File \u001b[0;32m~/.local/lib/python3.10/site-packages/pandas/core/apply.py:403\u001b[0m, in \u001b[0;36mApply.agg_dict_like\u001b[0;34m(self)\u001b[0m\n\u001b[1;32m    400\u001b[0m     selected_obj \u001b[39m=\u001b[39m obj\u001b[39m.\u001b[39m_selected_obj\n\u001b[1;32m    401\u001b[0m     selection \u001b[39m=\u001b[39m obj\u001b[39m.\u001b[39m_selection\n\u001b[0;32m--> 403\u001b[0m arg \u001b[39m=\u001b[39m \u001b[39mself\u001b[39;49m\u001b[39m.\u001b[39;49mnormalize_dictlike_arg(\u001b[39m\"\u001b[39;49m\u001b[39magg\u001b[39;49m\u001b[39m\"\u001b[39;49m, selected_obj, arg)\n\u001b[1;32m    405\u001b[0m is_groupby \u001b[39m=\u001b[39m \u001b[39misinstance\u001b[39m(obj, (DataFrameGroupBy, SeriesGroupBy))\n\u001b[1;32m    406\u001b[0m context_manager: ContextManager\n",
      "File \u001b[0;32m~/.local/lib/python3.10/site-packages/pandas/core/apply.py:535\u001b[0m, in \u001b[0;36mApply.normalize_dictlike_arg\u001b[0;34m(self, how, obj, func)\u001b[0m\n\u001b[1;32m    533\u001b[0m     \u001b[39mif\u001b[39;00m \u001b[39mlen\u001b[39m(cols) \u001b[39m>\u001b[39m \u001b[39m0\u001b[39m:\n\u001b[1;32m    534\u001b[0m         cols_sorted \u001b[39m=\u001b[39m \u001b[39mlist\u001b[39m(safe_sort(\u001b[39mlist\u001b[39m(cols)))\n\u001b[0;32m--> 535\u001b[0m         \u001b[39mraise\u001b[39;00m \u001b[39mKeyError\u001b[39;00m(\u001b[39mf\u001b[39m\u001b[39m\"\u001b[39m\u001b[39mColumn(s) \u001b[39m\u001b[39m{\u001b[39;00mcols_sorted\u001b[39m}\u001b[39;00m\u001b[39m do not exist\u001b[39m\u001b[39m\"\u001b[39m)\n\u001b[1;32m    537\u001b[0m aggregator_types \u001b[39m=\u001b[39m (\u001b[39mlist\u001b[39m, \u001b[39mtuple\u001b[39m, \u001b[39mdict\u001b[39m)\n\u001b[1;32m    539\u001b[0m \u001b[39m# if we have a dict of any non-scalars\u001b[39;00m\n\u001b[1;32m    540\u001b[0m \u001b[39m# eg. {'A' : ['mean']}, normalize all to\u001b[39;00m\n\u001b[1;32m    541\u001b[0m \u001b[39m# be list-likes\u001b[39;00m\n\u001b[1;32m    542\u001b[0m \u001b[39m# Cannot use func.values() because arg may be a Series\u001b[39;00m\n",
      "\u001b[0;31mKeyError\u001b[0m: \"Column(s) ['award'] do not exist\""
     ]
    }
   ],
   "source": [
    "df_player_evol = player_ranking_evolution(df_players_merged, 'tauradi01w')\n",
    "\n",
    "# plot of the evolution\n",
    "df_player_evol.plot(x='year', y='medium', kind='line')\n",
    "df_player_evol.head()"
   ]
  },
  {
   "cell_type": "code",
   "execution_count": null,
   "metadata": {},
   "outputs": [],
   "source": [
    "# get the players in a team \n",
    "\n",
    "df_player_of_teams = merge_player_info(df_players, df_players_teams) \n",
    "df_players_teams = player_in_team_by_year(df_player_of_teams)\n",
    "df_players_teams = team_mean(df_players_teams, df_pred)\n",
    "\n",
    "df_players_teams.head(20)\n"
   ]
  },
  {
   "cell_type": "code",
   "execution_count": null,
   "metadata": {},
   "outputs": [],
   "source": [
    "df_players_teams = df_players_teams.sort_values(by=['mean'], ascending=False)\n",
    "df_players_teams.head(10)"
   ]
  },
  {
   "cell_type": "code",
   "execution_count": null,
   "metadata": {},
   "outputs": [],
   "source": [
    "\n",
    "\n",
    "# Group the data by tmID and year and count the number of unique playerIDs for each group\n",
    "df_teams_evolution = df_players_teams.groupby(['tmID', 'year']).agg({\n",
    "    'mean': 'mean'\n",
    "}).reset_index()\n",
    "\n",
    "\n",
    "# Pivot the data to have tmID as columns and year as index\n",
    "df_teams_evolution = df_teams_evolution.pivot(\n",
    "    index='year', columns='tmID', values='mean')\n",
    "#\n",
    "# Plot the data as a stacked area chart\n",
    "df_teams_evolution.plot(kind='line', stacked=False, alpha=0.5)\n",
    "\n",
    "# Set the title and axis labels\n",
    "plt.title('Evolution of Teams')\n",
    "plt.xlabel('Year')\n",
    "plt.ylabel('Mean Ranking')\n",
    "\n",
    "plt.legend(loc='center left', bbox_to_anchor=(1.0, 0.5))\n",
    "\n",
    "# Show the plot\n",
    "plt.show()\n",
    "\n",
    "df_teams_evolution.head(10)\n",
    "\n",
    "# NOTA: as primeiras epocas tem menos pontuação porque tem ...\n",
    "# jogadores com rankings que n são tão precisos. Uma vez que jogaram menos jogos\n",
    "# TODO: podemos calcular os rankings progressivamente para um grafico mais preciso\n"
   ]
  },
  {
   "cell_type": "code",
   "execution_count": null,
   "metadata": {},
   "outputs": [],
   "source": [
    "#get the teams rating for year 10 \n",
    "# NOTE: I AM USING YEAR 10 ON THE PLAYER CALCULATION ... we have to take it out\n",
    "year_10 = df_players_teams[df_players_teams['year'] == 10]\n",
    "\n",
    "year_10 = year_10.sort_values(by=['mean'], ascending=False)\n",
    "\n",
    "year_10.head(20)"
   ]
  },
  {
   "cell_type": "code",
   "execution_count": null,
   "metadata": {},
   "outputs": [],
   "source": [
    "year_10 = df_players_teams[df_players_teams['year'] == 10]\n",
    "\n",
    "except_year_10 = df_players_teams[df_players_teams['year'] != 10]\n",
    "\n",
    "except_year_10 = except_year_10.groupby(['tmID']).agg({\n",
    "    'mean': 'mean',\n",
    "})\n",
    "\n",
    "# EQUIPAS QUE MUDARAM DE ESTADO : UTA->SAS (epoca 4) e ORL/CON (epoca 4) TODO\n",
    "# ... ver se n me esqueci de ng\n",
    "\n",
    "except_year_10 = except_year_10.sort_values(by=['mean'], ascending=False)\n",
    "\n",
    "\n",
    "except_year_10.head(50)\n"
   ]
  }
 ],
 "metadata": {
  "kernelspec": {
   "display_name": "Python 3",
   "language": "python",
   "name": "python3"
  },
  "language_info": {
   "codemirror_mode": {
    "name": "ipython",
    "version": 3
   },
   "file_extension": ".py",
   "mimetype": "text/x-python",
   "name": "python",
   "nbconvert_exporter": "python",
   "pygments_lexer": "ipython3",
   "version": "3.10.12"
  },
  "orig_nbformat": 4
 },
 "nbformat": 4,
 "nbformat_minor": 2
}
