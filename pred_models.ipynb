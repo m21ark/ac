{
 "cells": [
  {
   "cell_type": "markdown",
   "id": "5c9615d8",
   "metadata": {},
   "source": [
    "# Prediction Models"
   ]
  },
  {
   "cell_type": "markdown",
   "id": "6a46e7a4",
   "metadata": {},
   "source": [
    "## Imports"
   ]
  },
  {
   "cell_type": "code",
   "execution_count": null,
   "id": "924a1dbc",
   "metadata": {},
   "outputs": [],
   "source": []
  },
  {
   "cell_type": "markdown",
   "id": "727eef85",
   "metadata": {},
   "source": [
    "## Models"
   ]
  },
  {
   "cell_type": "code",
   "execution_count": 10,
   "id": "1ba417ed",
   "metadata": {},
   "outputs": [
    {
     "name": "stderr",
     "output_type": "stream",
     "text": [
      "/home/m/.local/lib/python3.10/site-packages/sklearn/ensemble/_forest.py:413: FutureWarning: `max_features='auto'` has been deprecated in 1.1 and will be removed in 1.3. To keep the past behaviour, explicitly set `max_features=1.0` or remove this parameter as it is also the default value for RandomForestRegressors and ExtraTreesRegressors.\n",
      "  warn(\n"
     ]
    },
    {
     "name": "stdout",
     "output_type": "stream",
     "text": [
      "Mean absolute error (base rf model): 0.015789027149321275 \n",
      "Mean absolute error (best rf model): 0.021215084732550956 \n",
      "[0.52560662 0.46038603 0.46985294 0.54040441 0.62987132 0.53597426\n",
      " 0.44431985 0.38047794 0.67693015 0.341875   0.50431985 0.57902574\n",
      " 0.50805147]\n",
      "[0.52711042 0.44946567 0.45453224 0.53796491 0.62528683 0.53249958\n",
      " 0.46162907 0.38304008 0.66755977 0.32901063 0.50679131 0.57072069\n",
      " 0.50696916]\n",
      "Team: ATL\tPredicted winPercentage: 0.5271104201787797\tActual winPercentage: 0.5294117647058824\n",
      "Team: CHI\tPredicted winPercentage: 0.44946566779674546\tActual winPercentage: 0.47058823529411764\n",
      "Team: CON\tPredicted winPercentage: 0.45453224387963576\tActual winPercentage: 0.47058823529411764\n",
      "Team: DET\tPredicted winPercentage: 0.5379649053893893\tActual winPercentage: 0.5294117647058824\n",
      "Team: IND\tPredicted winPercentage: 0.6252868292649055\tActual winPercentage: 0.6470588235294118\n",
      "Team: LAS\tPredicted winPercentage: 0.5324995825228168\tActual winPercentage: 0.5294117647058824\n",
      "Team: MIN\tPredicted winPercentage: 0.4616290746927595\tActual winPercentage: 0.4117647058823529\n",
      "Team: NYL\tPredicted winPercentage: 0.3830400818822683\tActual winPercentage: 0.38235294117647056\n",
      "Team: PHO\tPredicted winPercentage: 0.6675597675849755\tActual winPercentage: 0.6764705882352942\n",
      "Team: SAC\tPredicted winPercentage: 0.32901063187950624\tActual winPercentage: 0.35294117647058826\n",
      "Team: SAS\tPredicted winPercentage: 0.5067913145286771\tActual winPercentage: 0.4411764705882353\n",
      "Team: SEA\tPredicted winPercentage: 0.5707206934579001\tActual winPercentage: 0.5882352941176471\n",
      "Team: WAS\tPredicted winPercentage: 0.5069691612555819\tActual winPercentage: 0.47058823529411764\n"
     ]
    }
   ],
   "source": [
    "# ### dps vemos estaticas de rebounds, steals, blocks, turnovers, etc para prever as estatisticas da equipa no ano seguinte\n",
    "\n",
    "# save year 2010\n",
    "df_teams_2010 = df_teams[df_teams.year == 10]\n",
    "# \n",
    "# \n",
    "# Vai depender muito do que eles nos dão para testarmos.... provavelmente só nos vão dar a composição das equipas e não estatisiticas de jogos\n",
    "# \n",
    "# \n",
    "\n",
    "#drop where year equals 2010\n",
    "df_teams = df_teams[df_teams.year != 10]\n",
    "tmids = df_teams_2010['tmID']\n",
    "confIds = df_teams_2010['confID']\n",
    "df_teams = df_teams.drop(columns=['tmID', 'year', 'confID'], axis=1)\n",
    "\n",
    "df_teams_2010 = df_teams_2010.drop(columns=['tmID', 'year', 'confID'], axis=1)\n",
    "# remove year and tmID\n",
    "\n",
    "X, Y = df_teams.drop(columns=['winPercentage'], axis=1), df_teams['winPercentage']\n",
    "\n",
    "best_rf = RandomForestRegressor(n_estimators = 600,min_samples_split = 2,min_samples_leaf = 4,max_features = 'auto',max_depth = 40,bootstrap = True)\n",
    "base_rf = RandomForestRegressor()\n",
    "best_model = best_rf.fit(X, Y)\n",
    "base_model = base_rf.fit(X, Y)\n",
    "\n",
    "\n",
    "X_TEST = df_teams_2010.drop(columns=['winPercentage'], axis=1)\n",
    "Y_TEST = df_teams_2010['winPercentage']\n",
    "\n",
    "\n",
    "def mae(test,pred): # Mean absolute error \n",
    "    err = np.mean(abs(test-pred))\n",
    "    return err\n",
    "y_pred_base = base_model.predict(X_TEST)\n",
    "y_pred_best = best_model.predict(X_TEST)\n",
    "print('Mean absolute error (base rf model): {} '.format(mae(Y_TEST,y_pred_base)))\n",
    "print('Mean absolute error (best rf model): {} '.format(mae(Y_TEST,y_pred_best)))\n",
    "print(y_pred_base)\n",
    "print(y_pred_best)\n",
    "\n",
    "#add tmid again to df_teams_2010\n",
    "df_teams_2010['tmID'] = tmids\n",
    "\n",
    "\n",
    "\n",
    "\n",
    "# for every objet show the predicted winPercentage and the actual winPercentage\n",
    "i=0\n",
    "for index, row in df_teams_2010.iterrows():\n",
    "    print(f\"Team: {row['tmID']}\\tPredicted winPercentage: {y_pred_best[i]}\\tActual winPercentage: {row['winPercentage']}\")\n",
    "    i+=1\n"
   ]
  },
  {
   "cell_type": "code",
   "execution_count": 11,
   "id": "1b04a1af",
   "metadata": {},
   "outputs": [
    {
     "name": "stdout",
     "output_type": "stream",
     "text": [
      "Eastern Conference\n",
      "IND with probality of 0.6252868292649055\n",
      "DET with probality of 0.5379649053893893\n",
      "ATL with probality of 0.5271104201787797\n",
      "WAS with probality of 0.5069691612555819\n",
      "Western Conference\n",
      "PHO with probality of 0.6675597675849755\n",
      "SEA with probality of 0.5707206934579001\n",
      "LAS with probality of 0.5324995825228168\n",
      "SAS with probality of 0.5067913145286771\n"
     ]
    }
   ],
   "source": [
    "#\n",
    "#\n",
    "# NOTE: This is tested against year 2009. It is able to predict the exact teams that made it to the playoffs because the dataset contains the playoff statistics features for that year.\n",
    "#      However, the teacher won't probably give us the playoff statistics for the year 2010, so we will have to predict the teams that will make it to the playoffs based on other features.\n",
    "#\n",
    "#\n",
    "#\n",
    "# Make a prediction for the 2010 season\n",
    "# say which teams will make it to the playoffs ... only four teams from each conference make it to the playoffs\n",
    "\n",
    "df_teams_2010['confID'] = confIds\n",
    "\n",
    "# add predWinPercentage to df_teams_2010\n",
    "df_teams_2010['predWinPercentage'] = y_pred_best\n",
    "\n",
    "ea_conf = df_teams_2010[df_teams_2010.confID == 'EA']\n",
    "we_conf = df_teams_2010[df_teams_2010.confID == 'WE']\n",
    "\n",
    "\n",
    "# get the top 4 teams from each conference\n",
    "ea_conf = ea_conf.sort_values(by=['predWinPercentage'], ascending=False)\n",
    "we_conf = we_conf.sort_values(by=['predWinPercentage'], ascending=False)\n",
    "\n",
    "\n",
    "# print the teams that will make it to the playoffs\n",
    "\n",
    "print(\"Eastern Conference\")\n",
    "for index, row in ea_conf.head(4).iterrows():\n",
    "    print(f\"{row['tmID']} with probality of {row['predWinPercentage']}\")\n",
    "print(\"Western Conference\")\n",
    "for index, row in we_conf.head(4).iterrows():\n",
    "    print(f\"{row['tmID']} with probality of {row['predWinPercentage']}\")\n",
    "\n"
   ]
  }
 ],
 "metadata": {
  "kernelspec": {
   "display_name": "Python 3 (ipykernel)",
   "language": "python",
   "name": "python3"
  },
  "language_info": {
   "codemirror_mode": {
    "name": "ipython",
    "version": 3
   },
   "file_extension": ".py",
   "mimetype": "text/x-python",
   "name": "python",
   "nbconvert_exporter": "python",
   "pygments_lexer": "ipython3",
   "version": "3.10.12"
  }
 },
 "nbformat": 4,
 "nbformat_minor": 5
}
