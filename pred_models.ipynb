{
 "cells": [
  {
   "cell_type": "markdown",
   "id": "5c9615d8",
   "metadata": {},
   "source": [
    "# Prediction Models"
   ]
  },
  {
   "cell_type": "markdown",
   "id": "6a46e7a4",
   "metadata": {},
   "source": [
    "## Imports"
   ]
  },
  {
   "cell_type": "code",
   "execution_count": 7,
   "id": "924a1dbc",
   "metadata": {},
   "outputs": [],
   "source": [
    "import pandas as pd\n",
    "import numpy as np\n",
    "from sklearn.ensemble import RandomForestRegressor\n"
   ]
  },
  {
   "cell_type": "markdown",
   "id": "f497c14e",
   "metadata": {},
   "source": [
    "## Load Data"
   ]
  },
  {
   "cell_type": "code",
   "execution_count": 8,
   "metadata": {},
   "outputs": [],
   "source": [
    "df_teams = pd.read_csv(\"dataset/cleaned/teams.csv\")\n",
    "df_teams_post = pd.read_csv(\"dataset/cleaned/teams_post.csv\")\n",
    "df_series_post = pd.read_csv(\"dataset/cleaned/series_post.csv\")\n",
    "df_players = pd.read_csv(\"dataset/cleaned/players.csv\")\n",
    "df_players_teams = pd.read_csv(\"dataset/cleaned/players_teams.csv\")\n",
    "df_coaches = pd.read_csv(\"dataset/cleaned/coaches.csv\")\n",
    "df_awards_players = pd.read_csv(\"dataset/cleaned/awards_players.csv\")\n"
   ]
  },
  {
   "cell_type": "markdown",
   "id": "727eef85",
   "metadata": {},
   "source": [
    "## Models"
   ]
  },
  {
   "cell_type": "code",
   "execution_count": 9,
   "id": "1ba417ed",
   "metadata": {},
   "outputs": [
    {
     "name": "stderr",
     "output_type": "stream",
     "text": [
      "/home/m/.local/lib/python3.10/site-packages/sklearn/ensemble/_forest.py:413: FutureWarning: `max_features='auto'` has been deprecated in 1.1 and will be removed in 1.3. To keep the past behaviour, explicitly set `max_features=1.0` or remove this parameter as it is also the default value for RandomForestRegressors and ExtraTreesRegressors.\n",
      "  warn(\n"
     ]
    },
    {
     "name": "stdout",
     "output_type": "stream",
     "text": [
      "Mean absolute error (base rf model): 0.023363076923076823 \n",
      "Mean absolute error (best rf model): 0.022559392277514963 \n",
      "[0.53007 0.44052 0.45693 0.54437 0.63437 0.54085 0.46408 0.40226 0.67342\n",
      " 0.32326 0.50913 0.57822 0.50668]\n",
      "[0.53177807 0.44890795 0.45590029 0.54208297 0.62615728 0.53601878\n",
      " 0.46423849 0.38764722 0.66631172 0.32952742 0.50853118 0.57047601\n",
      " 0.50725607]\n",
      "Team: ATL\tPredicted winPercentage: 0.5317780707163212\tActual winPercentage: 0.529\n",
      "Team: CHI\tPredicted winPercentage: 0.4489079500083248\tActual winPercentage: 0.471\n",
      "Team: CON\tPredicted winPercentage: 0.45590029378029395\tActual winPercentage: 0.471\n",
      "Team: DET\tPredicted winPercentage: 0.5420829673648867\tActual winPercentage: 0.529\n",
      "Team: IND\tPredicted winPercentage: 0.626157280992156\tActual winPercentage: 0.647\n",
      "Team: LAS\tPredicted winPercentage: 0.5360187803343243\tActual winPercentage: 0.529\n",
      "Team: MIN\tPredicted winPercentage: 0.46423848784371985\tActual winPercentage: 0.412\n",
      "Team: NYL\tPredicted winPercentage: 0.3876472178574425\tActual winPercentage: 0.382\n",
      "Team: PHO\tPredicted winPercentage: 0.6663117214405967\tActual winPercentage: 0.676\n",
      "Team: SAC\tPredicted winPercentage: 0.3295274225060073\tActual winPercentage: 0.353\n",
      "Team: SAS\tPredicted winPercentage: 0.5085311798581534\tActual winPercentage: 0.441\n",
      "Team: SEA\tPredicted winPercentage: 0.5704760090696345\tActual winPercentage: 0.588\n",
      "Team: WAS\tPredicted winPercentage: 0.5072560734298598\tActual winPercentage: 0.471\n"
     ]
    }
   ],
   "source": [
    "# ### dps vemos estaticas de rebounds, steals, blocks, turnovers, etc para prever as estatisticas da equipa no ano seguinte\n",
    "\n",
    "# save year 2010\n",
    "df_teams_2010 = df_teams[df_teams.year == 10]\n",
    "# \n",
    "# \n",
    "# Vai depender muito do que eles nos dão para testarmos.... provavelmente só nos vão dar a composição das equipas e não estatisiticas de jogos\n",
    "# \n",
    "# \n",
    "\n",
    "#drop where year equals 2010\n",
    "df_teams = df_teams[df_teams.year != 10]\n",
    "tmids = df_teams_2010['tmID']\n",
    "confIds = df_teams_2010['confID']\n",
    "df_teams = df_teams.drop(columns=['tmID', 'year', 'confID'], axis=1)\n",
    "df_teams_2010 = df_teams_2010.drop(columns=['tmID', 'year', 'confID'], axis=1)\n",
    "# remove year and tmID\n",
    "\n",
    "X, Y = df_teams.drop(columns=['winPercentage'], axis=1), df_teams['winPercentage']\n",
    "\n",
    "best_rf = RandomForestRegressor(n_estimators = 600,min_samples_split = 2,min_samples_leaf = 4,max_features = 'auto',max_depth = 40,bootstrap = True)\n",
    "base_rf = RandomForestRegressor()\n",
    "best_model = best_rf.fit(X, Y)\n",
    "base_model = base_rf.fit(X, Y)\n",
    "\n",
    "\n",
    "X_TEST = df_teams_2010.drop(columns=['winPercentage'], axis=1)\n",
    "Y_TEST = df_teams_2010['winPercentage']\n",
    "\n",
    "\n",
    "def mae(test,pred): # Mean absolute error \n",
    "    err = np.mean(abs(test-pred))\n",
    "    return err\n",
    "y_pred_base = base_model.predict(X_TEST)\n",
    "y_pred_best = best_model.predict(X_TEST)\n",
    "print('Mean absolute error (base rf model): {} '.format(mae(Y_TEST,y_pred_base)))\n",
    "print('Mean absolute error (best rf model): {} '.format(mae(Y_TEST,y_pred_best)))\n",
    "print(y_pred_base)\n",
    "print(y_pred_best)\n",
    "\n",
    "#add tmid again to df_teams_2010\n",
    "df_teams_2010['tmID'] = tmids\n",
    "\n",
    "\n",
    "\n",
    "\n",
    "# for every objet show the predicted winPercentage and the actual winPercentage\n",
    "i=0\n",
    "for index, row in df_teams_2010.iterrows():\n",
    "    print(f\"Team: {row['tmID']}\\tPredicted winPercentage: {y_pred_best[i]}\\tActual winPercentage: {row['winPercentage']}\")\n",
    "    i+=1\n"
   ]
  },
  {
   "cell_type": "code",
   "execution_count": 10,
   "id": "1b04a1af",
   "metadata": {},
   "outputs": [
    {
     "name": "stdout",
     "output_type": "stream",
     "text": [
      "Eastern Conference\n",
      "IND with probality of 0.626157280992156\n",
      "DET with probality of 0.5420829673648867\n",
      "ATL with probality of 0.5317780707163212\n",
      "WAS with probality of 0.5072560734298598\n",
      "Western Conference\n",
      "PHO with probality of 0.6663117214405967\n",
      "SEA with probality of 0.5704760090696345\n",
      "LAS with probality of 0.5360187803343243\n",
      "SAS with probality of 0.5085311798581534\n"
     ]
    }
   ],
   "source": [
    "#\n",
    "#\n",
    "# NOTE: This is tested against year 2009. It is able to predict the exact teams that made it to the playoffs because the dataset contains the playoff statistics features for that year.\n",
    "#      However, the teacher won't probably give us the playoff statistics for the year 2010, so we will have to predict the teams that will make it to the playoffs based on other features.\n",
    "#\n",
    "#\n",
    "#\n",
    "# Make a prediction for the 2010 season\n",
    "# say which teams will make it to the playoffs ... only four teams from each conference make it to the playoffs\n",
    "\n",
    "df_teams_2010['confID'] = confIds\n",
    "\n",
    "# add predWinPercentage to df_teams_2010\n",
    "df_teams_2010['predWinPercentage'] = y_pred_best\n",
    "\n",
    "ea_conf = df_teams_2010[df_teams_2010.confID == 'EA']\n",
    "we_conf = df_teams_2010[df_teams_2010.confID == 'WE']\n",
    "\n",
    "\n",
    "# get the top 4 teams from each conference\n",
    "ea_conf = ea_conf.sort_values(by=['predWinPercentage'], ascending=False)\n",
    "we_conf = we_conf.sort_values(by=['predWinPercentage'], ascending=False)\n",
    "\n",
    "\n",
    "# print the teams that will make it to the playoffs\n",
    "\n",
    "print(\"Eastern Conference\")\n",
    "for index, row in ea_conf.head(4).iterrows():\n",
    "    print(f\"{row['tmID']} with probality of {row['predWinPercentage']}\")\n",
    "print(\"Western Conference\")\n",
    "for index, row in we_conf.head(4).iterrows():\n",
    "    print(f\"{row['tmID']} with probality of {row['predWinPercentage']}\")\n",
    "\n"
   ]
  }
 ],
 "metadata": {
  "kernelspec": {
   "display_name": "Python 3 (ipykernel)",
   "language": "python",
   "name": "python3"
  },
  "language_info": {
   "codemirror_mode": {
    "name": "ipython",
    "version": 3
   },
   "file_extension": ".py",
   "mimetype": "text/x-python",
   "name": "python",
   "nbconvert_exporter": "python",
   "pygments_lexer": "ipython3",
   "version": "3.10.12"
  }
 },
 "nbformat": 4,
 "nbformat_minor": 5
}
